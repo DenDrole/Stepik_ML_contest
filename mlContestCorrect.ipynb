{
 "cells": [
  {
   "cell_type": "markdown",
   "id": "66242da0-e550-41f8-aa2a-5e4df6d16baf",
   "metadata": {},
   "source": [
    "# Dependencies"
   ]
  },
  {
   "cell_type": "code",
   "execution_count": 1,
   "id": "b542a5f5-2322-4571-9079-afc29ea5c302",
   "metadata": {},
   "outputs": [],
   "source": [
    "import pandas as pd\n",
    "import numpy as np"
   ]
  },
  {
   "cell_type": "code",
   "execution_count": 2,
   "id": "501116da-92cf-4153-9664-31fe2ccc7363",
   "metadata": {},
   "outputs": [],
   "source": [
    "import seaborn as sns"
   ]
  },
  {
   "cell_type": "markdown",
   "id": "665a0fe6-d765-4da2-997d-82ee053f1ed6",
   "metadata": {},
   "source": [
    "# Reading data"
   ]
  },
  {
   "cell_type": "code",
   "execution_count": 3,
   "id": "1f062904-ce1c-4534-8840-593b86a5e326",
   "metadata": {},
   "outputs": [
    {
     "data": {
      "text/html": [
       "<div>\n",
       "<style scoped>\n",
       "    .dataframe tbody tr th:only-of-type {\n",
       "        vertical-align: middle;\n",
       "    }\n",
       "\n",
       "    .dataframe tbody tr th {\n",
       "        vertical-align: top;\n",
       "    }\n",
       "\n",
       "    .dataframe thead th {\n",
       "        text-align: right;\n",
       "    }\n",
       "</style>\n",
       "<table border=\"1\" class=\"dataframe\">\n",
       "  <thead>\n",
       "    <tr style=\"text-align: right;\">\n",
       "      <th></th>\n",
       "      <th>step_id</th>\n",
       "      <th>timestamp</th>\n",
       "      <th>action</th>\n",
       "      <th>user_id</th>\n",
       "    </tr>\n",
       "  </thead>\n",
       "  <tbody>\n",
       "    <tr>\n",
       "      <th>0</th>\n",
       "      <td>32815</td>\n",
       "      <td>1434340848</td>\n",
       "      <td>viewed</td>\n",
       "      <td>17632</td>\n",
       "    </tr>\n",
       "    <tr>\n",
       "      <th>1</th>\n",
       "      <td>32815</td>\n",
       "      <td>1434340848</td>\n",
       "      <td>passed</td>\n",
       "      <td>17632</td>\n",
       "    </tr>\n",
       "    <tr>\n",
       "      <th>2</th>\n",
       "      <td>32815</td>\n",
       "      <td>1434340848</td>\n",
       "      <td>discovered</td>\n",
       "      <td>17632</td>\n",
       "    </tr>\n",
       "    <tr>\n",
       "      <th>3</th>\n",
       "      <td>32811</td>\n",
       "      <td>1434340895</td>\n",
       "      <td>discovered</td>\n",
       "      <td>17632</td>\n",
       "    </tr>\n",
       "    <tr>\n",
       "      <th>4</th>\n",
       "      <td>32811</td>\n",
       "      <td>1434340895</td>\n",
       "      <td>viewed</td>\n",
       "      <td>17632</td>\n",
       "    </tr>\n",
       "  </tbody>\n",
       "</table>\n",
       "</div>"
      ],
      "text/plain": [
       "   step_id   timestamp      action  user_id\n",
       "0    32815  1434340848      viewed    17632\n",
       "1    32815  1434340848      passed    17632\n",
       "2    32815  1434340848  discovered    17632\n",
       "3    32811  1434340895  discovered    17632\n",
       "4    32811  1434340895      viewed    17632"
      ]
     },
     "execution_count": 3,
     "metadata": {},
     "output_type": "execute_result"
    }
   ],
   "source": [
    "events_data = pd.read_csv('https://stepik.org/media/attachments/course/4852/event_data_train.zip')\n",
    "events_data.head()"
   ]
  },
  {
   "cell_type": "code",
   "execution_count": 4,
   "id": "2d10b2ca-2448-474c-902a-badd18c0bbcd",
   "metadata": {},
   "outputs": [
    {
     "data": {
      "text/html": [
       "<div>\n",
       "<style scoped>\n",
       "    .dataframe tbody tr th:only-of-type {\n",
       "        vertical-align: middle;\n",
       "    }\n",
       "\n",
       "    .dataframe tbody tr th {\n",
       "        vertical-align: top;\n",
       "    }\n",
       "\n",
       "    .dataframe thead th {\n",
       "        text-align: right;\n",
       "    }\n",
       "</style>\n",
       "<table border=\"1\" class=\"dataframe\">\n",
       "  <thead>\n",
       "    <tr style=\"text-align: right;\">\n",
       "      <th></th>\n",
       "      <th>step_id</th>\n",
       "      <th>timestamp</th>\n",
       "      <th>submission_status</th>\n",
       "      <th>user_id</th>\n",
       "    </tr>\n",
       "  </thead>\n",
       "  <tbody>\n",
       "    <tr>\n",
       "      <th>0</th>\n",
       "      <td>31971</td>\n",
       "      <td>1434349275</td>\n",
       "      <td>correct</td>\n",
       "      <td>15853</td>\n",
       "    </tr>\n",
       "    <tr>\n",
       "      <th>1</th>\n",
       "      <td>31972</td>\n",
       "      <td>1434348300</td>\n",
       "      <td>correct</td>\n",
       "      <td>15853</td>\n",
       "    </tr>\n",
       "    <tr>\n",
       "      <th>2</th>\n",
       "      <td>31972</td>\n",
       "      <td>1478852149</td>\n",
       "      <td>wrong</td>\n",
       "      <td>15853</td>\n",
       "    </tr>\n",
       "    <tr>\n",
       "      <th>3</th>\n",
       "      <td>31972</td>\n",
       "      <td>1478852164</td>\n",
       "      <td>correct</td>\n",
       "      <td>15853</td>\n",
       "    </tr>\n",
       "    <tr>\n",
       "      <th>4</th>\n",
       "      <td>31976</td>\n",
       "      <td>1434348123</td>\n",
       "      <td>wrong</td>\n",
       "      <td>15853</td>\n",
       "    </tr>\n",
       "  </tbody>\n",
       "</table>\n",
       "</div>"
      ],
      "text/plain": [
       "   step_id   timestamp submission_status  user_id\n",
       "0    31971  1434349275           correct    15853\n",
       "1    31972  1434348300           correct    15853\n",
       "2    31972  1478852149             wrong    15853\n",
       "3    31972  1478852164           correct    15853\n",
       "4    31976  1434348123             wrong    15853"
      ]
     },
     "execution_count": 4,
     "metadata": {},
     "output_type": "execute_result"
    }
   ],
   "source": [
    "submissions_data = pd.read_csv('https://stepik.org/media/attachments/course/4852/submissions_data_train.zip')\n",
    "submissions_data.head()"
   ]
  },
  {
   "cell_type": "markdown",
   "id": "06080f28-672e-459a-b476-8352ca600aac",
   "metadata": {},
   "source": [
    "# EDA"
   ]
  },
  {
   "cell_type": "markdown",
   "id": "1a80a8d6-84c1-43ff-a2bc-b7bf62b0628f",
   "metadata": {},
   "source": [
    "## Creating target column"
   ]
  },
  {
   "cell_type": "code",
   "execution_count": 5,
   "id": "c9c2b970-4ea3-4d0a-9dbd-873ae7df5d13",
   "metadata": {},
   "outputs": [
    {
     "data": {
      "text/html": [
       "<div>\n",
       "<style scoped>\n",
       "    .dataframe tbody tr th:only-of-type {\n",
       "        vertical-align: middle;\n",
       "    }\n",
       "\n",
       "    .dataframe tbody tr th {\n",
       "        vertical-align: top;\n",
       "    }\n",
       "\n",
       "    .dataframe thead th {\n",
       "        text-align: right;\n",
       "    }\n",
       "</style>\n",
       "<table border=\"1\" class=\"dataframe\">\n",
       "  <thead>\n",
       "    <tr style=\"text-align: right;\">\n",
       "      <th></th>\n",
       "      <th>user_id</th>\n",
       "      <th>last_timestamp</th>\n",
       "    </tr>\n",
       "  </thead>\n",
       "  <tbody>\n",
       "    <tr>\n",
       "      <th>0</th>\n",
       "      <td>1</td>\n",
       "      <td>1472827464</td>\n",
       "    </tr>\n",
       "    <tr>\n",
       "      <th>1</th>\n",
       "      <td>2</td>\n",
       "      <td>1519226966</td>\n",
       "    </tr>\n",
       "    <tr>\n",
       "      <th>2</th>\n",
       "      <td>3</td>\n",
       "      <td>1444581588</td>\n",
       "    </tr>\n",
       "    <tr>\n",
       "      <th>3</th>\n",
       "      <td>5</td>\n",
       "      <td>1499859939</td>\n",
       "    </tr>\n",
       "    <tr>\n",
       "      <th>4</th>\n",
       "      <td>7</td>\n",
       "      <td>1521634660</td>\n",
       "    </tr>\n",
       "  </tbody>\n",
       "</table>\n",
       "</div>"
      ],
      "text/plain": [
       "   user_id  last_timestamp\n",
       "0        1      1472827464\n",
       "1        2      1519226966\n",
       "2        3      1444581588\n",
       "3        5      1499859939\n",
       "4        7      1521634660"
      ]
     },
     "execution_count": 5,
     "metadata": {},
     "output_type": "execute_result"
    }
   ],
   "source": [
    "# users_data is dataframe for model training\n",
    "users_data = events_data.groupby('user_id', as_index=False) \\\n",
    "    .agg({'timestamp': 'max'}).rename(columns={'timestamp': 'last_timestamp'})\n",
    "users_data.head()"
   ]
  },
  {
   "cell_type": "code",
   "execution_count": 6,
   "id": "0552eed9-4605-48b5-9851-3c6cb778caec",
   "metadata": {},
   "outputs": [
    {
     "data": {
      "text/html": [
       "<div>\n",
       "<style scoped>\n",
       "    .dataframe tbody tr th:only-of-type {\n",
       "        vertical-align: middle;\n",
       "    }\n",
       "\n",
       "    .dataframe tbody tr th {\n",
       "        vertical-align: top;\n",
       "    }\n",
       "\n",
       "    .dataframe thead th {\n",
       "        text-align: right;\n",
       "    }\n",
       "</style>\n",
       "<table border=\"1\" class=\"dataframe\">\n",
       "  <thead>\n",
       "    <tr style=\"text-align: right;\">\n",
       "      <th>submission_status</th>\n",
       "      <th>user_id</th>\n",
       "      <th>correct</th>\n",
       "      <th>wrong</th>\n",
       "    </tr>\n",
       "  </thead>\n",
       "  <tbody>\n",
       "    <tr>\n",
       "      <th>0</th>\n",
       "      <td>2</td>\n",
       "      <td>2</td>\n",
       "      <td>0</td>\n",
       "    </tr>\n",
       "    <tr>\n",
       "      <th>1</th>\n",
       "      <td>3</td>\n",
       "      <td>29</td>\n",
       "      <td>12</td>\n",
       "    </tr>\n",
       "    <tr>\n",
       "      <th>2</th>\n",
       "      <td>5</td>\n",
       "      <td>2</td>\n",
       "      <td>1</td>\n",
       "    </tr>\n",
       "    <tr>\n",
       "      <th>3</th>\n",
       "      <td>8</td>\n",
       "      <td>9</td>\n",
       "      <td>7</td>\n",
       "    </tr>\n",
       "    <tr>\n",
       "      <th>4</th>\n",
       "      <td>14</td>\n",
       "      <td>0</td>\n",
       "      <td>1</td>\n",
       "    </tr>\n",
       "  </tbody>\n",
       "</table>\n",
       "</div>"
      ],
      "text/plain": [
       "submission_status  user_id  correct  wrong\n",
       "0                        2        2      0\n",
       "1                        3       29     12\n",
       "2                        5        2      1\n",
       "3                        8        9      7\n",
       "4                       14        0      1"
      ]
     },
     "execution_count": 6,
     "metadata": {},
     "output_type": "execute_result"
    }
   ],
   "source": [
    "# amount of correct and wrong submissions\n",
    "all_time_users_scores = submissions_data.pivot_table(index='user_id',\n",
    "                       columns='submission_status',\n",
    "                       values='step_id',\n",
    "                       aggfunc=lambda x: len(x.unique()),\n",
    "                       fill_value=0).reset_index()\n",
    "all_time_users_scores.head()"
   ]
  },
  {
   "cell_type": "code",
   "execution_count": 7,
   "id": "4c74fbfb-79da-41e7-95a1-e5e2d4b1f9a7",
   "metadata": {},
   "outputs": [],
   "source": [
    "# by requirements if student solved more than 40 practical tasks, he passes\n",
    "users_data['passed_course'] = users_data.merge(all_time_users_scores, how='outer').correct > 40"
   ]
  },
  {
   "cell_type": "code",
   "execution_count": 8,
   "id": "dc4712a0-d0fc-400e-bcd2-fd36e9bf4b3f",
   "metadata": {},
   "outputs": [],
   "source": [
    "users_data = users_data.drop(columns=['last_timestamp'])"
   ]
  },
  {
   "cell_type": "code",
   "execution_count": 9,
   "id": "654a5004-8b7e-4cf2-b070-ff756326b0b6",
   "metadata": {},
   "outputs": [
    {
     "data": {
      "text/html": [
       "<div>\n",
       "<style scoped>\n",
       "    .dataframe tbody tr th:only-of-type {\n",
       "        vertical-align: middle;\n",
       "    }\n",
       "\n",
       "    .dataframe tbody tr th {\n",
       "        vertical-align: top;\n",
       "    }\n",
       "\n",
       "    .dataframe thead th {\n",
       "        text-align: right;\n",
       "    }\n",
       "</style>\n",
       "<table border=\"1\" class=\"dataframe\">\n",
       "  <thead>\n",
       "    <tr style=\"text-align: right;\">\n",
       "      <th></th>\n",
       "      <th>user_id</th>\n",
       "      <th>passed_course</th>\n",
       "    </tr>\n",
       "  </thead>\n",
       "  <tbody>\n",
       "    <tr>\n",
       "      <th>0</th>\n",
       "      <td>1</td>\n",
       "      <td>False</td>\n",
       "    </tr>\n",
       "    <tr>\n",
       "      <th>1</th>\n",
       "      <td>2</td>\n",
       "      <td>False</td>\n",
       "    </tr>\n",
       "    <tr>\n",
       "      <th>2</th>\n",
       "      <td>3</td>\n",
       "      <td>False</td>\n",
       "    </tr>\n",
       "    <tr>\n",
       "      <th>3</th>\n",
       "      <td>5</td>\n",
       "      <td>False</td>\n",
       "    </tr>\n",
       "    <tr>\n",
       "      <th>4</th>\n",
       "      <td>7</td>\n",
       "      <td>False</td>\n",
       "    </tr>\n",
       "  </tbody>\n",
       "</table>\n",
       "</div>"
      ],
      "text/plain": [
       "   user_id  passed_course\n",
       "0        1          False\n",
       "1        2          False\n",
       "2        3          False\n",
       "3        5          False\n",
       "4        7          False"
      ]
     },
     "execution_count": 9,
     "metadata": {},
     "output_type": "execute_result"
    }
   ],
   "source": [
    "users_data.head()"
   ]
  },
  {
   "cell_type": "markdown",
   "id": "a6575ebd-7cb3-4402-b512-a2770423a969",
   "metadata": {},
   "source": [
    "## Selecting desired timeframe of user's activity"
   ]
  },
  {
   "cell_type": "code",
   "execution_count": 10,
   "id": "a4ac83ff-ebf5-40e7-8f5f-0c8ec64d0c95",
   "metadata": {},
   "outputs": [
    {
     "data": {
      "text/html": [
       "<div>\n",
       "<style scoped>\n",
       "    .dataframe tbody tr th:only-of-type {\n",
       "        vertical-align: middle;\n",
       "    }\n",
       "\n",
       "    .dataframe tbody tr th {\n",
       "        vertical-align: top;\n",
       "    }\n",
       "\n",
       "    .dataframe thead th {\n",
       "        text-align: right;\n",
       "    }\n",
       "</style>\n",
       "<table border=\"1\" class=\"dataframe\">\n",
       "  <thead>\n",
       "    <tr style=\"text-align: right;\">\n",
       "      <th>action</th>\n",
       "      <th>user_id</th>\n",
       "      <th>discovered</th>\n",
       "      <th>passed</th>\n",
       "      <th>started_attempt</th>\n",
       "      <th>viewed</th>\n",
       "    </tr>\n",
       "  </thead>\n",
       "  <tbody>\n",
       "    <tr>\n",
       "      <th>0</th>\n",
       "      <td>1</td>\n",
       "      <td>1</td>\n",
       "      <td>0</td>\n",
       "      <td>0</td>\n",
       "      <td>1</td>\n",
       "    </tr>\n",
       "    <tr>\n",
       "      <th>1</th>\n",
       "      <td>2</td>\n",
       "      <td>9</td>\n",
       "      <td>9</td>\n",
       "      <td>2</td>\n",
       "      <td>9</td>\n",
       "    </tr>\n",
       "    <tr>\n",
       "      <th>2</th>\n",
       "      <td>3</td>\n",
       "      <td>15</td>\n",
       "      <td>15</td>\n",
       "      <td>4</td>\n",
       "      <td>20</td>\n",
       "    </tr>\n",
       "    <tr>\n",
       "      <th>3</th>\n",
       "      <td>5</td>\n",
       "      <td>1</td>\n",
       "      <td>1</td>\n",
       "      <td>0</td>\n",
       "      <td>1</td>\n",
       "    </tr>\n",
       "    <tr>\n",
       "      <th>4</th>\n",
       "      <td>7</td>\n",
       "      <td>1</td>\n",
       "      <td>1</td>\n",
       "      <td>0</td>\n",
       "      <td>1</td>\n",
       "    </tr>\n",
       "  </tbody>\n",
       "</table>\n",
       "</div>"
      ],
      "text/plain": [
       "action  user_id  discovered  passed  started_attempt  viewed\n",
       "0             1           1       0                0       1\n",
       "1             2           9       9                2       9\n",
       "2             3          15      15                4      20\n",
       "3             5           1       1                0       1\n",
       "4             7           1       1                0       1"
      ]
     },
     "execution_count": 10,
     "metadata": {},
     "output_type": "execute_result"
    }
   ],
   "source": [
    "# now that we know if the user have passed - we need to be able to predict it based on first 2 days on course\n",
    "threshold = 2 * 24 * 60 * 60\n",
    "cut_events_data = events_data[(events_data['timestamp'] < events_data.groupby('user_id')['timestamp'].transform('min') + threshold)]\n",
    "users_events_data = cut_events_data.pivot_table(index='user_id',\n",
    "                       columns='action',\n",
    "                       values='step_id',\n",
    "                       aggfunc='count',\n",
    "                       fill_value=0).reset_index()\n",
    "users_events_data.head()"
   ]
  },
  {
   "cell_type": "code",
   "execution_count": 11,
   "id": "3a2d5e87-4d35-4561-87d3-d83457c96e2a",
   "metadata": {},
   "outputs": [
    {
     "data": {
      "text/html": [
       "<div>\n",
       "<style scoped>\n",
       "    .dataframe tbody tr th:only-of-type {\n",
       "        vertical-align: middle;\n",
       "    }\n",
       "\n",
       "    .dataframe tbody tr th {\n",
       "        vertical-align: top;\n",
       "    }\n",
       "\n",
       "    .dataframe thead th {\n",
       "        text-align: right;\n",
       "    }\n",
       "</style>\n",
       "<table border=\"1\" class=\"dataframe\">\n",
       "  <thead>\n",
       "    <tr style=\"text-align: right;\">\n",
       "      <th>submission_status</th>\n",
       "      <th>user_id</th>\n",
       "      <th>correct</th>\n",
       "      <th>wrong</th>\n",
       "    </tr>\n",
       "  </thead>\n",
       "  <tbody>\n",
       "    <tr>\n",
       "      <th>0</th>\n",
       "      <td>2</td>\n",
       "      <td>2</td>\n",
       "      <td>0</td>\n",
       "    </tr>\n",
       "    <tr>\n",
       "      <th>1</th>\n",
       "      <td>3</td>\n",
       "      <td>4</td>\n",
       "      <td>2</td>\n",
       "    </tr>\n",
       "    <tr>\n",
       "      <th>2</th>\n",
       "      <td>5</td>\n",
       "      <td>2</td>\n",
       "      <td>1</td>\n",
       "    </tr>\n",
       "    <tr>\n",
       "      <th>3</th>\n",
       "      <td>8</td>\n",
       "      <td>9</td>\n",
       "      <td>7</td>\n",
       "    </tr>\n",
       "    <tr>\n",
       "      <th>4</th>\n",
       "      <td>14</td>\n",
       "      <td>0</td>\n",
       "      <td>1</td>\n",
       "    </tr>\n",
       "  </tbody>\n",
       "</table>\n",
       "</div>"
      ],
      "text/plain": [
       "submission_status  user_id  correct  wrong\n",
       "0                        2        2      0\n",
       "1                        3        4      2\n",
       "2                        5        2      1\n",
       "3                        8        9      7\n",
       "4                       14        0      1"
      ]
     },
     "execution_count": 11,
     "metadata": {},
     "output_type": "execute_result"
    }
   ],
   "source": [
    "cut_submissions_data = submissions_data[(submissions_data['timestamp'] < \n",
    "                                        submissions_data.groupby('user_id')['timestamp'].transform('min') + threshold)]\n",
    "users_scores = cut_submissions_data.pivot_table(index='user_id',\n",
    "                       columns='submission_status',\n",
    "                       values='step_id',\n",
    "                       aggfunc=lambda x: len(x.unique()),\n",
    "                       fill_value=0).reset_index()\n",
    "users_scores.head()"
   ]
  },
  {
   "cell_type": "code",
   "execution_count": 12,
   "id": "a5284dd5-cf57-4ead-9ff3-a2675603c16d",
   "metadata": {},
   "outputs": [],
   "source": [
    "users_data = users_data.merge(users_scores, how='outer').fillna(0)"
   ]
  },
  {
   "cell_type": "code",
   "execution_count": 13,
   "id": "8e5bdab3-8a81-49cf-84c6-01032373465e",
   "metadata": {},
   "outputs": [],
   "source": [
    "users_data = users_data.merge(users_events_data, how='outer')"
   ]
  },
  {
   "cell_type": "markdown",
   "id": "b2a35d26-4b2a-499b-bd55-fdf27cbfb315",
   "metadata": {},
   "source": [
    "## Creating features"
   ]
  },
  {
   "cell_type": "code",
   "execution_count": 14,
   "id": "7971dabf-69da-4d96-854f-e2e6ad75f8ca",
   "metadata": {},
   "outputs": [],
   "source": [
    "cut_events_data = cut_events_data.assign(day=pd.to_datetime(cut_events_data['timestamp'], unit='s').dt.day)"
   ]
  },
  {
   "cell_type": "code",
   "execution_count": 15,
   "id": "ee81edce-9ac4-453b-9322-d5eabe354c07",
   "metadata": {},
   "outputs": [],
   "source": [
    "# this feature shows, how many unique days have student spent on course\n",
    "users_days = cut_events_data.groupby('user_id').day.nunique().to_frame().reset_index()\n",
    "users_days = users_days.rename(columns={'day': 'days_on_course'}).fillna(0)"
   ]
  },
  {
   "cell_type": "code",
   "execution_count": 16,
   "id": "ec67477d-f483-4981-83ab-ec3bfbf35e58",
   "metadata": {},
   "outputs": [],
   "source": [
    "# this feature shows if student have solved last problem (then it is 0) and if not, how many attempts did he make\n",
    "last_tried_step_by_user = cut_submissions_data.iloc[cut_submissions_data.reset_index().groupby('user_id').timestamp.idxmax()] \\\n",
    "                                            .loc[:,['step_id', 'user_id']]\n",
    "\n",
    "last_tried_step_by_user = last_tried_step_by_user.merge(cut_submissions_data \\\n",
    "                                                             .drop(columns=['timestamp']), \n",
    "                                                        how='inner').rename(columns={'step_id': 'last_step_id'})\n",
    "last_tried_step_by_user = last_tried_step_by_user.pivot_table(index='user_id',\n",
    "                       columns='submission_status',\n",
    "                       aggfunc=len,\n",
    "                       fill_value=0).reset_index()\n",
    "last_tried_step_by_user.columns = last_tried_step_by_user.columns.droplevel(0)\n",
    "last_tried_step_by_user.rename(columns={'': 'user_id',\n",
    "                                        'correct': 'last_step_completion',\n",
    "                                        'wrong': 'last_step_wrong'}, inplace=True)\n",
    "last_tried_step_by_user.last_step_wrong[last_tried_step_by_user.last_step_completion == 1] = 0 \n",
    "last_tried_step_by_user = last_tried_step_by_user.drop(columns=['last_step_completion'])"
   ]
  },
  {
   "cell_type": "code",
   "execution_count": 17,
   "id": "5ee029e9-48f7-4a9b-869e-6e0a24008459",
   "metadata": {},
   "outputs": [],
   "source": [
    "# this feature shows if ratio of students correct solutions. Has higher correlation with target than separate correct or wrong.\n",
    "# NaN means there was no submission activity from user\n",
    "users_data = users_data.assign(correct_ratio=users_data.correct / (users_data.wrong + users_data.correct)) "
   ]
  },
  {
   "cell_type": "code",
   "execution_count": 18,
   "id": "4ebbe0c3-ae9a-4dc6-8459-64e6fbc17da1",
   "metadata": {},
   "outputs": [],
   "source": [
    "users_data = users_data.merge(users_days, how='outer')"
   ]
  },
  {
   "cell_type": "code",
   "execution_count": 19,
   "id": "ed58433a-f0db-4076-aa45-a9424dbc50ab",
   "metadata": {},
   "outputs": [],
   "source": [
    "# NaN means there was no submission activity from user\n",
    "users_data = users_data.merge(last_tried_step_by_user, how='outer')"
   ]
  },
  {
   "cell_type": "code",
   "execution_count": 20,
   "id": "e21a0775-9d1f-442a-b821-173bcdc7975d",
   "metadata": {},
   "outputs": [],
   "source": [
    "users_data.set_index('user_id', inplace=True)"
   ]
  },
  {
   "cell_type": "code",
   "execution_count": 21,
   "id": "486a2320-b2be-4336-b7c4-be3461290832",
   "metadata": {},
   "outputs": [
    {
     "data": {
      "text/html": [
       "<div>\n",
       "<style scoped>\n",
       "    .dataframe tbody tr th:only-of-type {\n",
       "        vertical-align: middle;\n",
       "    }\n",
       "\n",
       "    .dataframe tbody tr th {\n",
       "        vertical-align: top;\n",
       "    }\n",
       "\n",
       "    .dataframe thead th {\n",
       "        text-align: right;\n",
       "    }\n",
       "</style>\n",
       "<table border=\"1\" class=\"dataframe\">\n",
       "  <thead>\n",
       "    <tr style=\"text-align: right;\">\n",
       "      <th></th>\n",
       "      <th>passed_course</th>\n",
       "      <th>correct</th>\n",
       "      <th>wrong</th>\n",
       "      <th>discovered</th>\n",
       "      <th>passed</th>\n",
       "      <th>started_attempt</th>\n",
       "      <th>viewed</th>\n",
       "      <th>correct_ratio</th>\n",
       "      <th>days_on_course</th>\n",
       "      <th>last_step_wrong</th>\n",
       "    </tr>\n",
       "    <tr>\n",
       "      <th>user_id</th>\n",
       "      <th></th>\n",
       "      <th></th>\n",
       "      <th></th>\n",
       "      <th></th>\n",
       "      <th></th>\n",
       "      <th></th>\n",
       "      <th></th>\n",
       "      <th></th>\n",
       "      <th></th>\n",
       "      <th></th>\n",
       "    </tr>\n",
       "  </thead>\n",
       "  <tbody>\n",
       "    <tr>\n",
       "      <th>1</th>\n",
       "      <td>False</td>\n",
       "      <td>0.0</td>\n",
       "      <td>0.0</td>\n",
       "      <td>1</td>\n",
       "      <td>0</td>\n",
       "      <td>0</td>\n",
       "      <td>1</td>\n",
       "      <td>NaN</td>\n",
       "      <td>1</td>\n",
       "      <td>NaN</td>\n",
       "    </tr>\n",
       "    <tr>\n",
       "      <th>2</th>\n",
       "      <td>False</td>\n",
       "      <td>2.0</td>\n",
       "      <td>0.0</td>\n",
       "      <td>9</td>\n",
       "      <td>9</td>\n",
       "      <td>2</td>\n",
       "      <td>9</td>\n",
       "      <td>1.000000</td>\n",
       "      <td>1</td>\n",
       "      <td>0.0</td>\n",
       "    </tr>\n",
       "    <tr>\n",
       "      <th>3</th>\n",
       "      <td>False</td>\n",
       "      <td>4.0</td>\n",
       "      <td>2.0</td>\n",
       "      <td>15</td>\n",
       "      <td>15</td>\n",
       "      <td>4</td>\n",
       "      <td>20</td>\n",
       "      <td>0.666667</td>\n",
       "      <td>1</td>\n",
       "      <td>0.0</td>\n",
       "    </tr>\n",
       "    <tr>\n",
       "      <th>5</th>\n",
       "      <td>False</td>\n",
       "      <td>2.0</td>\n",
       "      <td>1.0</td>\n",
       "      <td>1</td>\n",
       "      <td>1</td>\n",
       "      <td>0</td>\n",
       "      <td>1</td>\n",
       "      <td>0.666667</td>\n",
       "      <td>1</td>\n",
       "      <td>0.0</td>\n",
       "    </tr>\n",
       "    <tr>\n",
       "      <th>7</th>\n",
       "      <td>False</td>\n",
       "      <td>0.0</td>\n",
       "      <td>0.0</td>\n",
       "      <td>1</td>\n",
       "      <td>1</td>\n",
       "      <td>0</td>\n",
       "      <td>1</td>\n",
       "      <td>NaN</td>\n",
       "      <td>1</td>\n",
       "      <td>NaN</td>\n",
       "    </tr>\n",
       "  </tbody>\n",
       "</table>\n",
       "</div>"
      ],
      "text/plain": [
       "         passed_course  correct  wrong  discovered  passed  started_attempt   \n",
       "user_id                                                                       \n",
       "1                False      0.0    0.0           1       0                0  \\\n",
       "2                False      2.0    0.0           9       9                2   \n",
       "3                False      4.0    2.0          15      15                4   \n",
       "5                False      2.0    1.0           1       1                0   \n",
       "7                False      0.0    0.0           1       1                0   \n",
       "\n",
       "         viewed  correct_ratio  days_on_course  last_step_wrong  \n",
       "user_id                                                          \n",
       "1             1            NaN               1              NaN  \n",
       "2             9       1.000000               1              0.0  \n",
       "3            20       0.666667               1              0.0  \n",
       "5             1       0.666667               1              0.0  \n",
       "7             1            NaN               1              NaN  "
      ]
     },
     "execution_count": 21,
     "metadata": {},
     "output_type": "execute_result"
    }
   ],
   "source": [
    "users_data.head()"
   ]
  },
  {
   "cell_type": "markdown",
   "id": "a52f24f8-524f-4a49-8193-b03e87fa1540",
   "metadata": {},
   "source": [
    "# Model selection"
   ]
  },
  {
   "cell_type": "code",
   "execution_count": 22,
   "id": "514b00aa-9ae8-4704-b34a-e03343101f14",
   "metadata": {},
   "outputs": [],
   "source": [
    "# if user hasnt even tried solving problems - best we can do is just assume that he isnt going to finish\n",
    "na_free_users_data = users_data.dropna()\n",
    "# if user has passed the test already - model doesn't need to study his behaviour\n",
    "na_free_users_data = na_free_users_data[na_free_users_data.correct < 40]"
   ]
  },
  {
   "cell_type": "code",
   "execution_count": 23,
   "id": "f51e6ee6-6e76-4443-8d8b-15c02d36f937",
   "metadata": {},
   "outputs": [
    {
     "data": {
      "text/plain": [
       "1.0"
      ]
     },
     "execution_count": 23,
     "metadata": {},
     "output_type": "execute_result"
    }
   ],
   "source": [
    "close_to_completion = np.where(na_free_users_data.correct > 38)\n",
    "no_problems = np.where(na_free_users_data.last_step_wrong == 0)\n",
    "success_stories = na_free_users_data.passed_course.iloc[np.intersect1d(close_to_completion, no_problems)]\n",
    "sum(success_stories) / success_stories.size"
   ]
  },
  {
   "cell_type": "code",
   "execution_count": 24,
   "id": "b7744a8f-cfd4-4ed6-86bc-dcbdfc245427",
   "metadata": {},
   "outputs": [],
   "source": [
    "na_free_users_data.reset_index(inplace=True)\n",
    "na_free_users_data.drop(index=np.intersect1d(close_to_completion, no_problems), inplace=True)"
   ]
  },
  {
   "cell_type": "code",
   "execution_count": 25,
   "id": "5a9576eb-d4cb-4aea-b781-ed65e2bd008a",
   "metadata": {},
   "outputs": [],
   "source": [
    "na_free_users_data.set_index('user_id', inplace=True)"
   ]
  },
  {
   "cell_type": "code",
   "execution_count": 26,
   "id": "e7495302-88fa-408e-8c53-18f688d9ea97",
   "metadata": {},
   "outputs": [],
   "source": [
    "y = na_free_users_data.passed_course\n",
    "X = na_free_users_data.drop(columns=['passed_course'])"
   ]
  },
  {
   "cell_type": "code",
   "execution_count": 27,
   "id": "af34b786-a3f0-42e7-be9c-52011a55ef72",
   "metadata": {},
   "outputs": [],
   "source": [
    "from sklearn.model_selection import train_test_split\n",
    "X_train, X_test, y_train, y_test = train_test_split(X, y)"
   ]
  },
  {
   "cell_type": "code",
   "execution_count": 28,
   "id": "dd0cf32e-dafc-4d73-97c8-66e1c36222f6",
   "metadata": {},
   "outputs": [],
   "source": [
    "from sklearn.experimental import enable_halving_search_cv\n",
    "from sklearn.model_selection import HalvingGridSearchCV\n",
    "from sklearn.ensemble import RandomForestClassifier\n",
    "from sklearn.calibration import CalibratedClassifierCV\n",
    "\n",
    "calibrated_forest = CalibratedClassifierCV(estimator=RandomForestClassifier())\n",
    "param_grid = {'estimator__max_depth': range(3, 21, 2),\n",
    "            'estimator__min_samples_leaf': range(5, 21, 2)}\n",
    "search = HalvingGridSearchCV(calibrated_forest, param_grid, \n",
    "                               resource='estimator__n_estimators', max_resources=50,\n",
    "                               scoring='roc_auc')"
   ]
  },
  {
   "cell_type": "code",
   "execution_count": 29,
   "id": "90adfb5b-4fc6-445a-9ce4-96ff8b2e7879",
   "metadata": {},
   "outputs": [
    {
     "data": {
      "text/html": [
       "<style>#sk-container-id-1 {color: black;}#sk-container-id-1 pre{padding: 0;}#sk-container-id-1 div.sk-toggleable {background-color: white;}#sk-container-id-1 label.sk-toggleable__label {cursor: pointer;display: block;width: 100%;margin-bottom: 0;padding: 0.3em;box-sizing: border-box;text-align: center;}#sk-container-id-1 label.sk-toggleable__label-arrow:before {content: \"▸\";float: left;margin-right: 0.25em;color: #696969;}#sk-container-id-1 label.sk-toggleable__label-arrow:hover:before {color: black;}#sk-container-id-1 div.sk-estimator:hover label.sk-toggleable__label-arrow:before {color: black;}#sk-container-id-1 div.sk-toggleable__content {max-height: 0;max-width: 0;overflow: hidden;text-align: left;background-color: #f0f8ff;}#sk-container-id-1 div.sk-toggleable__content pre {margin: 0.2em;color: black;border-radius: 0.25em;background-color: #f0f8ff;}#sk-container-id-1 input.sk-toggleable__control:checked~div.sk-toggleable__content {max-height: 200px;max-width: 100%;overflow: auto;}#sk-container-id-1 input.sk-toggleable__control:checked~label.sk-toggleable__label-arrow:before {content: \"▾\";}#sk-container-id-1 div.sk-estimator input.sk-toggleable__control:checked~label.sk-toggleable__label {background-color: #d4ebff;}#sk-container-id-1 div.sk-label input.sk-toggleable__control:checked~label.sk-toggleable__label {background-color: #d4ebff;}#sk-container-id-1 input.sk-hidden--visually {border: 0;clip: rect(1px 1px 1px 1px);clip: rect(1px, 1px, 1px, 1px);height: 1px;margin: -1px;overflow: hidden;padding: 0;position: absolute;width: 1px;}#sk-container-id-1 div.sk-estimator {font-family: monospace;background-color: #f0f8ff;border: 1px dotted black;border-radius: 0.25em;box-sizing: border-box;margin-bottom: 0.5em;}#sk-container-id-1 div.sk-estimator:hover {background-color: #d4ebff;}#sk-container-id-1 div.sk-parallel-item::after {content: \"\";width: 100%;border-bottom: 1px solid gray;flex-grow: 1;}#sk-container-id-1 div.sk-label:hover label.sk-toggleable__label {background-color: #d4ebff;}#sk-container-id-1 div.sk-serial::before {content: \"\";position: absolute;border-left: 1px solid gray;box-sizing: border-box;top: 0;bottom: 0;left: 50%;z-index: 0;}#sk-container-id-1 div.sk-serial {display: flex;flex-direction: column;align-items: center;background-color: white;padding-right: 0.2em;padding-left: 0.2em;position: relative;}#sk-container-id-1 div.sk-item {position: relative;z-index: 1;}#sk-container-id-1 div.sk-parallel {display: flex;align-items: stretch;justify-content: center;background-color: white;position: relative;}#sk-container-id-1 div.sk-item::before, #sk-container-id-1 div.sk-parallel-item::before {content: \"\";position: absolute;border-left: 1px solid gray;box-sizing: border-box;top: 0;bottom: 0;left: 50%;z-index: -1;}#sk-container-id-1 div.sk-parallel-item {display: flex;flex-direction: column;z-index: 1;position: relative;background-color: white;}#sk-container-id-1 div.sk-parallel-item:first-child::after {align-self: flex-end;width: 50%;}#sk-container-id-1 div.sk-parallel-item:last-child::after {align-self: flex-start;width: 50%;}#sk-container-id-1 div.sk-parallel-item:only-child::after {width: 0;}#sk-container-id-1 div.sk-dashed-wrapped {border: 1px dashed gray;margin: 0 0.4em 0.5em 0.4em;box-sizing: border-box;padding-bottom: 0.4em;background-color: white;}#sk-container-id-1 div.sk-label label {font-family: monospace;font-weight: bold;display: inline-block;line-height: 1.2em;}#sk-container-id-1 div.sk-label-container {text-align: center;}#sk-container-id-1 div.sk-container {/* jupyter's `normalize.less` sets `[hidden] { display: none; }` but bootstrap.min.css set `[hidden] { display: none !important; }` so we also need the `!important` here to be able to override the default hidden behavior on the sphinx rendered scikit-learn.org. See: https://github.com/scikit-learn/scikit-learn/issues/21755 */display: inline-block !important;position: relative;}#sk-container-id-1 div.sk-text-repr-fallback {display: none;}</style><div id=\"sk-container-id-1\" class=\"sk-top-container\"><div class=\"sk-text-repr-fallback\"><pre>HalvingGridSearchCV(estimator=CalibratedClassifierCV(estimator=RandomForestClassifier()),\n",
       "                    max_resources=50,\n",
       "                    param_grid={&#x27;estimator__max_depth&#x27;: range(3, 21, 2),\n",
       "                                &#x27;estimator__min_samples_leaf&#x27;: range(5, 21, 2)},\n",
       "                    resource=&#x27;estimator__n_estimators&#x27;, scoring=&#x27;roc_auc&#x27;)</pre><b>In a Jupyter environment, please rerun this cell to show the HTML representation or trust the notebook. <br />On GitHub, the HTML representation is unable to render, please try loading this page with nbviewer.org.</b></div><div class=\"sk-container\" hidden><div class=\"sk-item sk-dashed-wrapped\"><div class=\"sk-label-container\"><div class=\"sk-label sk-toggleable\"><input class=\"sk-toggleable__control sk-hidden--visually\" id=\"sk-estimator-id-1\" type=\"checkbox\" ><label for=\"sk-estimator-id-1\" class=\"sk-toggleable__label sk-toggleable__label-arrow\">HalvingGridSearchCV</label><div class=\"sk-toggleable__content\"><pre>HalvingGridSearchCV(estimator=CalibratedClassifierCV(estimator=RandomForestClassifier()),\n",
       "                    max_resources=50,\n",
       "                    param_grid={&#x27;estimator__max_depth&#x27;: range(3, 21, 2),\n",
       "                                &#x27;estimator__min_samples_leaf&#x27;: range(5, 21, 2)},\n",
       "                    resource=&#x27;estimator__n_estimators&#x27;, scoring=&#x27;roc_auc&#x27;)</pre></div></div></div><div class=\"sk-parallel\"><div class=\"sk-parallel-item\"><div class=\"sk-item\"><div class=\"sk-label-container\"><div class=\"sk-label sk-toggleable\"><input class=\"sk-toggleable__control sk-hidden--visually\" id=\"sk-estimator-id-2\" type=\"checkbox\" ><label for=\"sk-estimator-id-2\" class=\"sk-toggleable__label sk-toggleable__label-arrow\">estimator: CalibratedClassifierCV</label><div class=\"sk-toggleable__content\"><pre>CalibratedClassifierCV(estimator=RandomForestClassifier())</pre></div></div></div><div class=\"sk-serial\"><div class=\"sk-item sk-dashed-wrapped\"><div class=\"sk-parallel\"><div class=\"sk-parallel-item\"><div class=\"sk-item\"><div class=\"sk-label-container\"><div class=\"sk-label sk-toggleable\"><input class=\"sk-toggleable__control sk-hidden--visually\" id=\"sk-estimator-id-3\" type=\"checkbox\" ><label for=\"sk-estimator-id-3\" class=\"sk-toggleable__label sk-toggleable__label-arrow\">estimator: RandomForestClassifier</label><div class=\"sk-toggleable__content\"><pre>RandomForestClassifier()</pre></div></div></div><div class=\"sk-serial\"><div class=\"sk-item\"><div class=\"sk-estimator sk-toggleable\"><input class=\"sk-toggleable__control sk-hidden--visually\" id=\"sk-estimator-id-4\" type=\"checkbox\" ><label for=\"sk-estimator-id-4\" class=\"sk-toggleable__label sk-toggleable__label-arrow\">RandomForestClassifier</label><div class=\"sk-toggleable__content\"><pre>RandomForestClassifier()</pre></div></div></div></div></div></div></div></div></div></div></div></div></div></div></div>"
      ],
      "text/plain": [
       "HalvingGridSearchCV(estimator=CalibratedClassifierCV(estimator=RandomForestClassifier()),\n",
       "                    max_resources=50,\n",
       "                    param_grid={'estimator__max_depth': range(3, 21, 2),\n",
       "                                'estimator__min_samples_leaf': range(5, 21, 2)},\n",
       "                    resource='estimator__n_estimators', scoring='roc_auc')"
      ]
     },
     "execution_count": 29,
     "metadata": {},
     "output_type": "execute_result"
    }
   ],
   "source": [
    "search.fit(X_train, y_train)\n",
    "# if you want to save time, best_params_ from one of the fits (train datasets are different every time, params might change):\n",
    "# {'estimator__max_depth': 5, 'estimator__min_samples_leaf': 13, 'estimator__n_estimators': 27}"
   ]
  },
  {
   "cell_type": "code",
   "execution_count": 30,
   "id": "9771acfb-c00c-419f-b157-cc404ed28fde",
   "metadata": {},
   "outputs": [],
   "source": [
    "best_forest = search.best_estimator_"
   ]
  },
  {
   "cell_type": "code",
   "execution_count": 31,
   "id": "9453ce69-fe52-432f-9775-49ede01424b1",
   "metadata": {},
   "outputs": [
    {
     "data": {
      "text/plain": [
       "0.7143172313240993"
      ]
     },
     "execution_count": 31,
     "metadata": {},
     "output_type": "execute_result"
    }
   ],
   "source": [
    "from sklearn.metrics import roc_auc_score\n",
    "roc_auc_score(best_forest.predict(X_test), y_test)"
   ]
  },
  {
   "cell_type": "markdown",
   "id": "92f76f1a-be81-4f4a-9d79-439eb3006d30",
   "metadata": {},
   "source": [
    "Keep in mind, that score is for a part of users that were detected as ambigious based on 2 days of data! Overall score of prediction would be much higher."
   ]
  },
  {
   "cell_type": "code",
   "execution_count": 32,
   "id": "2351ec93-b11f-4534-b503-01a5eb0d9304",
   "metadata": {},
   "outputs": [
    {
     "data": {
      "text/html": [
       "<style>#sk-container-id-2 {color: black;}#sk-container-id-2 pre{padding: 0;}#sk-container-id-2 div.sk-toggleable {background-color: white;}#sk-container-id-2 label.sk-toggleable__label {cursor: pointer;display: block;width: 100%;margin-bottom: 0;padding: 0.3em;box-sizing: border-box;text-align: center;}#sk-container-id-2 label.sk-toggleable__label-arrow:before {content: \"▸\";float: left;margin-right: 0.25em;color: #696969;}#sk-container-id-2 label.sk-toggleable__label-arrow:hover:before {color: black;}#sk-container-id-2 div.sk-estimator:hover label.sk-toggleable__label-arrow:before {color: black;}#sk-container-id-2 div.sk-toggleable__content {max-height: 0;max-width: 0;overflow: hidden;text-align: left;background-color: #f0f8ff;}#sk-container-id-2 div.sk-toggleable__content pre {margin: 0.2em;color: black;border-radius: 0.25em;background-color: #f0f8ff;}#sk-container-id-2 input.sk-toggleable__control:checked~div.sk-toggleable__content {max-height: 200px;max-width: 100%;overflow: auto;}#sk-container-id-2 input.sk-toggleable__control:checked~label.sk-toggleable__label-arrow:before {content: \"▾\";}#sk-container-id-2 div.sk-estimator input.sk-toggleable__control:checked~label.sk-toggleable__label {background-color: #d4ebff;}#sk-container-id-2 div.sk-label input.sk-toggleable__control:checked~label.sk-toggleable__label {background-color: #d4ebff;}#sk-container-id-2 input.sk-hidden--visually {border: 0;clip: rect(1px 1px 1px 1px);clip: rect(1px, 1px, 1px, 1px);height: 1px;margin: -1px;overflow: hidden;padding: 0;position: absolute;width: 1px;}#sk-container-id-2 div.sk-estimator {font-family: monospace;background-color: #f0f8ff;border: 1px dotted black;border-radius: 0.25em;box-sizing: border-box;margin-bottom: 0.5em;}#sk-container-id-2 div.sk-estimator:hover {background-color: #d4ebff;}#sk-container-id-2 div.sk-parallel-item::after {content: \"\";width: 100%;border-bottom: 1px solid gray;flex-grow: 1;}#sk-container-id-2 div.sk-label:hover label.sk-toggleable__label {background-color: #d4ebff;}#sk-container-id-2 div.sk-serial::before {content: \"\";position: absolute;border-left: 1px solid gray;box-sizing: border-box;top: 0;bottom: 0;left: 50%;z-index: 0;}#sk-container-id-2 div.sk-serial {display: flex;flex-direction: column;align-items: center;background-color: white;padding-right: 0.2em;padding-left: 0.2em;position: relative;}#sk-container-id-2 div.sk-item {position: relative;z-index: 1;}#sk-container-id-2 div.sk-parallel {display: flex;align-items: stretch;justify-content: center;background-color: white;position: relative;}#sk-container-id-2 div.sk-item::before, #sk-container-id-2 div.sk-parallel-item::before {content: \"\";position: absolute;border-left: 1px solid gray;box-sizing: border-box;top: 0;bottom: 0;left: 50%;z-index: -1;}#sk-container-id-2 div.sk-parallel-item {display: flex;flex-direction: column;z-index: 1;position: relative;background-color: white;}#sk-container-id-2 div.sk-parallel-item:first-child::after {align-self: flex-end;width: 50%;}#sk-container-id-2 div.sk-parallel-item:last-child::after {align-self: flex-start;width: 50%;}#sk-container-id-2 div.sk-parallel-item:only-child::after {width: 0;}#sk-container-id-2 div.sk-dashed-wrapped {border: 1px dashed gray;margin: 0 0.4em 0.5em 0.4em;box-sizing: border-box;padding-bottom: 0.4em;background-color: white;}#sk-container-id-2 div.sk-label label {font-family: monospace;font-weight: bold;display: inline-block;line-height: 1.2em;}#sk-container-id-2 div.sk-label-container {text-align: center;}#sk-container-id-2 div.sk-container {/* jupyter's `normalize.less` sets `[hidden] { display: none; }` but bootstrap.min.css set `[hidden] { display: none !important; }` so we also need the `!important` here to be able to override the default hidden behavior on the sphinx rendered scikit-learn.org. See: https://github.com/scikit-learn/scikit-learn/issues/21755 */display: inline-block !important;position: relative;}#sk-container-id-2 div.sk-text-repr-fallback {display: none;}</style><div id=\"sk-container-id-2\" class=\"sk-top-container\"><div class=\"sk-text-repr-fallback\"><pre>CalibratedClassifierCV(estimator=RandomForestClassifier(max_depth=7,\n",
       "                                                        min_samples_leaf=13,\n",
       "                                                        n_estimators=27))</pre><b>In a Jupyter environment, please rerun this cell to show the HTML representation or trust the notebook. <br />On GitHub, the HTML representation is unable to render, please try loading this page with nbviewer.org.</b></div><div class=\"sk-container\" hidden><div class=\"sk-item sk-dashed-wrapped\"><div class=\"sk-label-container\"><div class=\"sk-label sk-toggleable\"><input class=\"sk-toggleable__control sk-hidden--visually\" id=\"sk-estimator-id-5\" type=\"checkbox\" ><label for=\"sk-estimator-id-5\" class=\"sk-toggleable__label sk-toggleable__label-arrow\">CalibratedClassifierCV</label><div class=\"sk-toggleable__content\"><pre>CalibratedClassifierCV(estimator=RandomForestClassifier(max_depth=7,\n",
       "                                                        min_samples_leaf=13,\n",
       "                                                        n_estimators=27))</pre></div></div></div><div class=\"sk-parallel\"><div class=\"sk-parallel-item\"><div class=\"sk-item\"><div class=\"sk-label-container\"><div class=\"sk-label sk-toggleable\"><input class=\"sk-toggleable__control sk-hidden--visually\" id=\"sk-estimator-id-6\" type=\"checkbox\" ><label for=\"sk-estimator-id-6\" class=\"sk-toggleable__label sk-toggleable__label-arrow\">estimator: RandomForestClassifier</label><div class=\"sk-toggleable__content\"><pre>RandomForestClassifier(max_depth=7, min_samples_leaf=13, n_estimators=27)</pre></div></div></div><div class=\"sk-serial\"><div class=\"sk-item\"><div class=\"sk-estimator sk-toggleable\"><input class=\"sk-toggleable__control sk-hidden--visually\" id=\"sk-estimator-id-7\" type=\"checkbox\" ><label for=\"sk-estimator-id-7\" class=\"sk-toggleable__label sk-toggleable__label-arrow\">RandomForestClassifier</label><div class=\"sk-toggleable__content\"><pre>RandomForestClassifier(max_depth=7, min_samples_leaf=13, n_estimators=27)</pre></div></div></div></div></div></div></div></div></div></div>"
      ],
      "text/plain": [
       "CalibratedClassifierCV(estimator=RandomForestClassifier(max_depth=7,\n",
       "                                                        min_samples_leaf=13,\n",
       "                                                        n_estimators=27))"
      ]
     },
     "execution_count": 32,
     "metadata": {},
     "output_type": "execute_result"
    }
   ],
   "source": [
    "best_forest.fit(X, y)\n",
    "# if you want to save time, still best_params_ = {'estimator__max_depth': 5, 'estimator__min_samples_leaf': 13, 'estimator__n_estimators': 27}"
   ]
  },
  {
   "cell_type": "markdown",
   "id": "958a47a9-5613-4065-a16e-f28d31affdd3",
   "metadata": {},
   "source": [
    "# Prediction"
   ]
  },
  {
   "cell_type": "markdown",
   "id": "3dc8e670-c2c6-4a06-a8aa-bfbb37e9884a",
   "metadata": {},
   "source": [
    "## Creating dataframe with features for predictions"
   ]
  },
  {
   "cell_type": "code",
   "execution_count": 33,
   "id": "1506e9e3-19dc-4dcb-a114-ae5c16c8ead5",
   "metadata": {},
   "outputs": [
    {
     "data": {
      "text/html": [
       "<div>\n",
       "<style scoped>\n",
       "    .dataframe tbody tr th:only-of-type {\n",
       "        vertical-align: middle;\n",
       "    }\n",
       "\n",
       "    .dataframe tbody tr th {\n",
       "        vertical-align: top;\n",
       "    }\n",
       "\n",
       "    .dataframe thead th {\n",
       "        text-align: right;\n",
       "    }\n",
       "</style>\n",
       "<table border=\"1\" class=\"dataframe\">\n",
       "  <thead>\n",
       "    <tr style=\"text-align: right;\">\n",
       "      <th></th>\n",
       "      <th>step_id</th>\n",
       "      <th>timestamp</th>\n",
       "      <th>action</th>\n",
       "      <th>user_id</th>\n",
       "    </tr>\n",
       "  </thead>\n",
       "  <tbody>\n",
       "    <tr>\n",
       "      <th>0</th>\n",
       "      <td>30456</td>\n",
       "      <td>1526893787</td>\n",
       "      <td>viewed</td>\n",
       "      <td>24417</td>\n",
       "    </tr>\n",
       "    <tr>\n",
       "      <th>1</th>\n",
       "      <td>30456</td>\n",
       "      <td>1526893797</td>\n",
       "      <td>viewed</td>\n",
       "      <td>24417</td>\n",
       "    </tr>\n",
       "    <tr>\n",
       "      <th>2</th>\n",
       "      <td>30456</td>\n",
       "      <td>1526893954</td>\n",
       "      <td>viewed</td>\n",
       "      <td>24417</td>\n",
       "    </tr>\n",
       "    <tr>\n",
       "      <th>3</th>\n",
       "      <td>30456</td>\n",
       "      <td>1526895780</td>\n",
       "      <td>viewed</td>\n",
       "      <td>24417</td>\n",
       "    </tr>\n",
       "    <tr>\n",
       "      <th>4</th>\n",
       "      <td>30456</td>\n",
       "      <td>1526893787</td>\n",
       "      <td>discovered</td>\n",
       "      <td>24417</td>\n",
       "    </tr>\n",
       "  </tbody>\n",
       "</table>\n",
       "</div>"
      ],
      "text/plain": [
       "   step_id   timestamp      action  user_id\n",
       "0    30456  1526893787      viewed    24417\n",
       "1    30456  1526893797      viewed    24417\n",
       "2    30456  1526893954      viewed    24417\n",
       "3    30456  1526895780      viewed    24417\n",
       "4    30456  1526893787  discovered    24417"
      ]
     },
     "execution_count": 33,
     "metadata": {},
     "output_type": "execute_result"
    }
   ],
   "source": [
    "test_events_data = pd.read_csv('https://stepik.org/media/attachments/course/4852/events_data_test.csv')\n",
    "test_events_data.head()"
   ]
  },
  {
   "cell_type": "code",
   "execution_count": 34,
   "id": "4aba8de4-cc66-4a7d-9849-a7ab358907ab",
   "metadata": {},
   "outputs": [
    {
     "data": {
      "text/html": [
       "<div>\n",
       "<style scoped>\n",
       "    .dataframe tbody tr th:only-of-type {\n",
       "        vertical-align: middle;\n",
       "    }\n",
       "\n",
       "    .dataframe tbody tr th {\n",
       "        vertical-align: top;\n",
       "    }\n",
       "\n",
       "    .dataframe thead th {\n",
       "        text-align: right;\n",
       "    }\n",
       "</style>\n",
       "<table border=\"1\" class=\"dataframe\">\n",
       "  <thead>\n",
       "    <tr style=\"text-align: right;\">\n",
       "      <th></th>\n",
       "      <th>step_id</th>\n",
       "      <th>timestamp</th>\n",
       "      <th>submission_status</th>\n",
       "      <th>user_id</th>\n",
       "    </tr>\n",
       "  </thead>\n",
       "  <tbody>\n",
       "    <tr>\n",
       "      <th>0</th>\n",
       "      <td>31971</td>\n",
       "      <td>1526800961</td>\n",
       "      <td>wrong</td>\n",
       "      <td>24370</td>\n",
       "    </tr>\n",
       "    <tr>\n",
       "      <th>1</th>\n",
       "      <td>31971</td>\n",
       "      <td>1526800976</td>\n",
       "      <td>wrong</td>\n",
       "      <td>24370</td>\n",
       "    </tr>\n",
       "    <tr>\n",
       "      <th>2</th>\n",
       "      <td>31971</td>\n",
       "      <td>1526800993</td>\n",
       "      <td>wrong</td>\n",
       "      <td>24370</td>\n",
       "    </tr>\n",
       "    <tr>\n",
       "      <th>3</th>\n",
       "      <td>31971</td>\n",
       "      <td>1526801054</td>\n",
       "      <td>correct</td>\n",
       "      <td>24370</td>\n",
       "    </tr>\n",
       "    <tr>\n",
       "      <th>4</th>\n",
       "      <td>31972</td>\n",
       "      <td>1526800664</td>\n",
       "      <td>wrong</td>\n",
       "      <td>24370</td>\n",
       "    </tr>\n",
       "  </tbody>\n",
       "</table>\n",
       "</div>"
      ],
      "text/plain": [
       "   step_id   timestamp submission_status  user_id\n",
       "0    31971  1526800961             wrong    24370\n",
       "1    31971  1526800976             wrong    24370\n",
       "2    31971  1526800993             wrong    24370\n",
       "3    31971  1526801054           correct    24370\n",
       "4    31972  1526800664             wrong    24370"
      ]
     },
     "execution_count": 34,
     "metadata": {},
     "output_type": "execute_result"
    }
   ],
   "source": [
    "test_submissions_data = pd.read_csv('https://stepik.org/media/attachments/course/4852/submission_data_test.csv')\n",
    "test_submissions_data.head()"
   ]
  },
  {
   "cell_type": "code",
   "execution_count": 35,
   "id": "fd7ca66e-477c-45a9-81a9-6eccf5ea6280",
   "metadata": {},
   "outputs": [],
   "source": [
    "test_users_data = pd.DataFrame({'user_id': test_events_data.user_id.unique()})"
   ]
  },
  {
   "cell_type": "code",
   "execution_count": 36,
   "id": "b97a083a-58e6-4f09-99f1-1d5d1ab2bbad",
   "metadata": {},
   "outputs": [
    {
     "data": {
      "text/html": [
       "<div>\n",
       "<style scoped>\n",
       "    .dataframe tbody tr th:only-of-type {\n",
       "        vertical-align: middle;\n",
       "    }\n",
       "\n",
       "    .dataframe tbody tr th {\n",
       "        vertical-align: top;\n",
       "    }\n",
       "\n",
       "    .dataframe thead th {\n",
       "        text-align: right;\n",
       "    }\n",
       "</style>\n",
       "<table border=\"1\" class=\"dataframe\">\n",
       "  <thead>\n",
       "    <tr style=\"text-align: right;\">\n",
       "      <th>submission_status</th>\n",
       "      <th>user_id</th>\n",
       "      <th>correct</th>\n",
       "      <th>wrong</th>\n",
       "    </tr>\n",
       "  </thead>\n",
       "  <tbody>\n",
       "    <tr>\n",
       "      <th>0</th>\n",
       "      <td>12</td>\n",
       "      <td>1</td>\n",
       "      <td>0</td>\n",
       "    </tr>\n",
       "    <tr>\n",
       "      <th>1</th>\n",
       "      <td>13</td>\n",
       "      <td>29</td>\n",
       "      <td>10</td>\n",
       "    </tr>\n",
       "    <tr>\n",
       "      <th>2</th>\n",
       "      <td>15</td>\n",
       "      <td>10</td>\n",
       "      <td>5</td>\n",
       "    </tr>\n",
       "    <tr>\n",
       "      <th>3</th>\n",
       "      <td>21</td>\n",
       "      <td>24</td>\n",
       "      <td>16</td>\n",
       "    </tr>\n",
       "    <tr>\n",
       "      <th>4</th>\n",
       "      <td>35</td>\n",
       "      <td>7</td>\n",
       "      <td>5</td>\n",
       "    </tr>\n",
       "  </tbody>\n",
       "</table>\n",
       "</div>"
      ],
      "text/plain": [
       "submission_status  user_id  correct  wrong\n",
       "0                       12        1      0\n",
       "1                       13       29     10\n",
       "2                       15       10      5\n",
       "3                       21       24     16\n",
       "4                       35        7      5"
      ]
     },
     "execution_count": 36,
     "metadata": {},
     "output_type": "execute_result"
    }
   ],
   "source": [
    "test_users_scores = test_submissions_data.pivot_table(index='user_id',\n",
    "                       columns='submission_status',\n",
    "                       values='step_id',\n",
    "                       aggfunc=lambda x: len(x.unique()),\n",
    "                       fill_value=0).reset_index()\n",
    "test_users_scores.head()"
   ]
  },
  {
   "cell_type": "code",
   "execution_count": 37,
   "id": "ec13a8a6-4bfa-4199-8b9e-a9bd09d61d3b",
   "metadata": {},
   "outputs": [],
   "source": [
    "test_users_data = test_users_data.merge(test_users_scores, how='outer').fillna(0)"
   ]
  },
  {
   "cell_type": "code",
   "execution_count": 38,
   "id": "23f5d97f-3bbc-4674-96db-70026bf5e1d2",
   "metadata": {},
   "outputs": [
    {
     "data": {
      "text/html": [
       "<div>\n",
       "<style scoped>\n",
       "    .dataframe tbody tr th:only-of-type {\n",
       "        vertical-align: middle;\n",
       "    }\n",
       "\n",
       "    .dataframe tbody tr th {\n",
       "        vertical-align: top;\n",
       "    }\n",
       "\n",
       "    .dataframe thead th {\n",
       "        text-align: right;\n",
       "    }\n",
       "</style>\n",
       "<table border=\"1\" class=\"dataframe\">\n",
       "  <thead>\n",
       "    <tr style=\"text-align: right;\">\n",
       "      <th>action</th>\n",
       "      <th>user_id</th>\n",
       "      <th>discovered</th>\n",
       "      <th>passed</th>\n",
       "      <th>started_attempt</th>\n",
       "      <th>viewed</th>\n",
       "    </tr>\n",
       "  </thead>\n",
       "  <tbody>\n",
       "    <tr>\n",
       "      <th>0</th>\n",
       "      <td>4</td>\n",
       "      <td>1</td>\n",
       "      <td>1</td>\n",
       "      <td>0</td>\n",
       "      <td>1</td>\n",
       "    </tr>\n",
       "    <tr>\n",
       "      <th>1</th>\n",
       "      <td>6</td>\n",
       "      <td>1</td>\n",
       "      <td>1</td>\n",
       "      <td>0</td>\n",
       "      <td>1</td>\n",
       "    </tr>\n",
       "    <tr>\n",
       "      <th>2</th>\n",
       "      <td>10</td>\n",
       "      <td>2</td>\n",
       "      <td>2</td>\n",
       "      <td>0</td>\n",
       "      <td>6</td>\n",
       "    </tr>\n",
       "    <tr>\n",
       "      <th>3</th>\n",
       "      <td>12</td>\n",
       "      <td>11</td>\n",
       "      <td>9</td>\n",
       "      <td>4</td>\n",
       "      <td>14</td>\n",
       "    </tr>\n",
       "    <tr>\n",
       "      <th>4</th>\n",
       "      <td>13</td>\n",
       "      <td>70</td>\n",
       "      <td>70</td>\n",
       "      <td>35</td>\n",
       "      <td>105</td>\n",
       "    </tr>\n",
       "  </tbody>\n",
       "</table>\n",
       "</div>"
      ],
      "text/plain": [
       "action  user_id  discovered  passed  started_attempt  viewed\n",
       "0             4           1       1                0       1\n",
       "1             6           1       1                0       1\n",
       "2            10           2       2                0       6\n",
       "3            12          11       9                4      14\n",
       "4            13          70      70               35     105"
      ]
     },
     "execution_count": 38,
     "metadata": {},
     "output_type": "execute_result"
    }
   ],
   "source": [
    "test_users_events_data = test_events_data.pivot_table(index='user_id',\n",
    "                       columns='action',\n",
    "                       values='step_id',\n",
    "                       aggfunc='count',\n",
    "                       fill_value=0).reset_index()\n",
    "test_users_events_data.head()"
   ]
  },
  {
   "cell_type": "code",
   "execution_count": 39,
   "id": "84fed337-7d51-43dc-8650-dd6288d795d7",
   "metadata": {},
   "outputs": [],
   "source": [
    "test_users_data = test_users_data.merge(test_users_events_data, how='outer')"
   ]
  },
  {
   "cell_type": "code",
   "execution_count": 40,
   "id": "12ace7f6-81d9-4c00-afc6-762e6308d3db",
   "metadata": {},
   "outputs": [],
   "source": [
    "test_users_data = test_users_data.assign(correct_ratio=test_users_data.correct / (test_users_data.wrong + test_users_data.correct))"
   ]
  },
  {
   "cell_type": "code",
   "execution_count": 41,
   "id": "90e86abf-8797-4c10-a299-d5d793779b33",
   "metadata": {},
   "outputs": [],
   "source": [
    "test_events_data = test_events_data.assign(day=pd.to_datetime(test_events_data['timestamp'], unit='s').dt.day)"
   ]
  },
  {
   "cell_type": "code",
   "execution_count": 42,
   "id": "6e3d67a3-b241-4251-9351-d0ed9f787ae3",
   "metadata": {},
   "outputs": [
    {
     "data": {
      "text/html": [
       "<div>\n",
       "<style scoped>\n",
       "    .dataframe tbody tr th:only-of-type {\n",
       "        vertical-align: middle;\n",
       "    }\n",
       "\n",
       "    .dataframe tbody tr th {\n",
       "        vertical-align: top;\n",
       "    }\n",
       "\n",
       "    .dataframe thead th {\n",
       "        text-align: right;\n",
       "    }\n",
       "</style>\n",
       "<table border=\"1\" class=\"dataframe\">\n",
       "  <thead>\n",
       "    <tr style=\"text-align: right;\">\n",
       "      <th></th>\n",
       "      <th>user_id</th>\n",
       "      <th>day</th>\n",
       "    </tr>\n",
       "  </thead>\n",
       "  <tbody>\n",
       "    <tr>\n",
       "      <th>0</th>\n",
       "      <td>4</td>\n",
       "      <td>1</td>\n",
       "    </tr>\n",
       "    <tr>\n",
       "      <th>1</th>\n",
       "      <td>6</td>\n",
       "      <td>1</td>\n",
       "    </tr>\n",
       "    <tr>\n",
       "      <th>2</th>\n",
       "      <td>10</td>\n",
       "      <td>1</td>\n",
       "    </tr>\n",
       "    <tr>\n",
       "      <th>3</th>\n",
       "      <td>12</td>\n",
       "      <td>1</td>\n",
       "    </tr>\n",
       "    <tr>\n",
       "      <th>4</th>\n",
       "      <td>13</td>\n",
       "      <td>2</td>\n",
       "    </tr>\n",
       "  </tbody>\n",
       "</table>\n",
       "</div>"
      ],
      "text/plain": [
       "   user_id  day\n",
       "0        4    1\n",
       "1        6    1\n",
       "2       10    1\n",
       "3       12    1\n",
       "4       13    2"
      ]
     },
     "execution_count": 42,
     "metadata": {},
     "output_type": "execute_result"
    }
   ],
   "source": [
    "test_users_days = test_events_data.groupby('user_id').day.nunique().to_frame().reset_index()\n",
    "test_users_days.head()"
   ]
  },
  {
   "cell_type": "code",
   "execution_count": 43,
   "id": "d73b33b5-823b-4641-9390-03082c028d3f",
   "metadata": {},
   "outputs": [],
   "source": [
    "test_users_data = test_users_data.merge(test_users_days, how='outer')"
   ]
  },
  {
   "cell_type": "code",
   "execution_count": 44,
   "id": "ff950424-2ab0-4273-94f1-07dc70619687",
   "metadata": {},
   "outputs": [
    {
     "data": {
      "text/html": [
       "<div>\n",
       "<style scoped>\n",
       "    .dataframe tbody tr th:only-of-type {\n",
       "        vertical-align: middle;\n",
       "    }\n",
       "\n",
       "    .dataframe tbody tr th {\n",
       "        vertical-align: top;\n",
       "    }\n",
       "\n",
       "    .dataframe thead th {\n",
       "        text-align: right;\n",
       "    }\n",
       "</style>\n",
       "<table border=\"1\" class=\"dataframe\">\n",
       "  <thead>\n",
       "    <tr style=\"text-align: right;\">\n",
       "      <th>submission_status</th>\n",
       "      <th>user_id</th>\n",
       "      <th>last_step_wrong</th>\n",
       "    </tr>\n",
       "  </thead>\n",
       "  <tbody>\n",
       "    <tr>\n",
       "      <th>0</th>\n",
       "      <td>12</td>\n",
       "      <td>0</td>\n",
       "    </tr>\n",
       "    <tr>\n",
       "      <th>1</th>\n",
       "      <td>13</td>\n",
       "      <td>0</td>\n",
       "    </tr>\n",
       "    <tr>\n",
       "      <th>2</th>\n",
       "      <td>15</td>\n",
       "      <td>2</td>\n",
       "    </tr>\n",
       "    <tr>\n",
       "      <th>3</th>\n",
       "      <td>21</td>\n",
       "      <td>4</td>\n",
       "    </tr>\n",
       "    <tr>\n",
       "      <th>4</th>\n",
       "      <td>35</td>\n",
       "      <td>1</td>\n",
       "    </tr>\n",
       "  </tbody>\n",
       "</table>\n",
       "</div>"
      ],
      "text/plain": [
       "submission_status  user_id  last_step_wrong\n",
       "0                       12                0\n",
       "1                       13                0\n",
       "2                       15                2\n",
       "3                       21                4\n",
       "4                       35                1"
      ]
     },
     "execution_count": 44,
     "metadata": {},
     "output_type": "execute_result"
    }
   ],
   "source": [
    "test_last_tried_step_by_user = test_submissions_data.iloc[test_submissions_data.reset_index().groupby('user_id').timestamp.idxmax()] \\\n",
    "                                            .loc[:,['step_id', 'user_id']]\n",
    "\n",
    "test_last_tried_step_by_user = test_last_tried_step_by_user.merge(test_submissions_data \\\n",
    "                                                             .drop(columns=['timestamp']), \n",
    "                                                        how='inner').rename(columns={'step_id': 'last_step_id'})\n",
    "test_last_tried_step_by_user = test_last_tried_step_by_user.pivot_table(index='user_id',\n",
    "                       columns='submission_status',\n",
    "                       aggfunc=len,\n",
    "                       fill_value=0).reset_index()\n",
    "test_last_tried_step_by_user.columns = test_last_tried_step_by_user.columns.droplevel(0)\n",
    "test_last_tried_step_by_user.rename(columns={'': 'user_id',\n",
    "                                        'correct': 'last_step_completion',\n",
    "                                        'wrong': 'last_step_wrong'}, inplace=True)\n",
    "test_last_tried_step_by_user.last_step_wrong[test_last_tried_step_by_user.last_step_completion == 1] = 0 \n",
    "test_last_tried_step_by_user = test_last_tried_step_by_user.drop(columns=['last_step_completion'])\n",
    "test_last_tried_step_by_user.head()"
   ]
  },
  {
   "cell_type": "code",
   "execution_count": 45,
   "id": "481070c1-64e5-47f7-a1d2-2933872979cf",
   "metadata": {},
   "outputs": [],
   "source": [
    "test_users_data = test_users_data.merge(test_last_tried_step_by_user, how='outer')"
   ]
  },
  {
   "cell_type": "code",
   "execution_count": 46,
   "id": "2ac79671-4d20-4cdc-a6ad-59c34685595a",
   "metadata": {},
   "outputs": [],
   "source": [
    "test_users_data = test_users_data.rename(columns={'day': 'days_on_course'})"
   ]
  },
  {
   "cell_type": "markdown",
   "id": "f3913225-c759-4b6d-9da4-3fb45d58f754",
   "metadata": {},
   "source": [
    "## Predicting for inactive users"
   ]
  },
  {
   "cell_type": "code",
   "execution_count": 47,
   "id": "de93c8bb-8fff-43f4-80ae-f7427c6da623",
   "metadata": {},
   "outputs": [
    {
     "data": {
      "text/html": [
       "<div>\n",
       "<style scoped>\n",
       "    .dataframe tbody tr th:only-of-type {\n",
       "        vertical-align: middle;\n",
       "    }\n",
       "\n",
       "    .dataframe tbody tr th {\n",
       "        vertical-align: top;\n",
       "    }\n",
       "\n",
       "    .dataframe thead th {\n",
       "        text-align: right;\n",
       "    }\n",
       "</style>\n",
       "<table border=\"1\" class=\"dataframe\">\n",
       "  <thead>\n",
       "    <tr style=\"text-align: right;\">\n",
       "      <th></th>\n",
       "      <th>user_id</th>\n",
       "      <th>is_gone</th>\n",
       "    </tr>\n",
       "  </thead>\n",
       "  <tbody>\n",
       "    <tr>\n",
       "      <th>0</th>\n",
       "      <td>24417</td>\n",
       "      <td>0</td>\n",
       "    </tr>\n",
       "    <tr>\n",
       "      <th>1</th>\n",
       "      <td>999</td>\n",
       "      <td>0</td>\n",
       "    </tr>\n",
       "    <tr>\n",
       "      <th>2</th>\n",
       "      <td>26244</td>\n",
       "      <td>0</td>\n",
       "    </tr>\n",
       "    <tr>\n",
       "      <th>3</th>\n",
       "      <td>14192</td>\n",
       "      <td>0</td>\n",
       "    </tr>\n",
       "    <tr>\n",
       "      <th>4</th>\n",
       "      <td>12684</td>\n",
       "      <td>0</td>\n",
       "    </tr>\n",
       "    <tr>\n",
       "      <th>...</th>\n",
       "      <td>...</td>\n",
       "      <td>...</td>\n",
       "    </tr>\n",
       "    <tr>\n",
       "      <th>6179</th>\n",
       "      <td>7315</td>\n",
       "      <td>0</td>\n",
       "    </tr>\n",
       "    <tr>\n",
       "      <th>6180</th>\n",
       "      <td>24300</td>\n",
       "      <td>0</td>\n",
       "    </tr>\n",
       "    <tr>\n",
       "      <th>6181</th>\n",
       "      <td>820</td>\n",
       "      <td>0</td>\n",
       "    </tr>\n",
       "    <tr>\n",
       "      <th>6182</th>\n",
       "      <td>3649</td>\n",
       "      <td>0</td>\n",
       "    </tr>\n",
       "    <tr>\n",
       "      <th>6183</th>\n",
       "      <td>20953</td>\n",
       "      <td>0</td>\n",
       "    </tr>\n",
       "  </tbody>\n",
       "</table>\n",
       "<p>3381 rows × 2 columns</p>\n",
       "</div>"
      ],
      "text/plain": [
       "      user_id  is_gone\n",
       "0       24417        0\n",
       "1         999        0\n",
       "2       26244        0\n",
       "3       14192        0\n",
       "4       12684        0\n",
       "...       ...      ...\n",
       "6179     7315        0\n",
       "6180    24300        0\n",
       "6181      820        0\n",
       "6182     3649        0\n",
       "6183    20953        0\n",
       "\n",
       "[3381 rows x 2 columns]"
      ]
     },
     "execution_count": 47,
     "metadata": {},
     "output_type": "execute_result"
    }
   ],
   "source": [
    "inds = np.where(test_users_data.correct_ratio.isna())[0]\n",
    "y_pred = pd.DataFrame({'user_id': test_users_data.user_id[inds],\n",
    "                       'is_gone': 0})\n",
    "test_users_data = test_users_data.dropna()\n",
    "y_pred"
   ]
  },
  {
   "cell_type": "markdown",
   "id": "0667ee2f-022a-4389-a80d-f4f4740b4a9c",
   "metadata": {},
   "source": [
    "## Predicting for active users"
   ]
  },
  {
   "cell_type": "markdown",
   "id": "be56abd2-7a4a-4aa8-9ed3-cde3bdeed052",
   "metadata": {},
   "source": [
    "Very likely success"
   ]
  },
  {
   "cell_type": "code",
   "execution_count": 48,
   "id": "8fe83816-774b-4e0c-ac1f-87951539c20b",
   "metadata": {},
   "outputs": [],
   "source": [
    "close_to_completion = np.where(test_users_data.correct > 38)\n",
    "no_problems = np.where(test_users_data.last_step_wrong == 0)\n",
    "success_stories = np.intersect1d(close_to_completion, no_problems)\n",
    "y_success = pd.DataFrame({'user_id': test_users_data.iloc[success_stories].index,\n",
    "                          'is_gone': 1})\n",
    "y_pred = pd.concat([y_pred, y_success])"
   ]
  },
  {
   "cell_type": "markdown",
   "id": "d5677482-e7c0-4614-bcd2-babd366673ed",
   "metadata": {},
   "source": [
    "Success needs to be predicted by model"
   ]
  },
  {
   "cell_type": "code",
   "execution_count": 49,
   "id": "ec48cb2b-c23a-4a0d-9c52-3e6d2270f3a9",
   "metadata": {},
   "outputs": [],
   "source": [
    "test_users_data.reset_index(inplace=True, drop=True)\n",
    "test_X = test_users_data\n",
    "test_X = test_users_data.drop(index=success_stories)\n",
    "test_X.set_index('user_id', inplace=True)\n",
    "# test_X = test_X.drop(columns=['correct', 'wrong'])"
   ]
  },
  {
   "cell_type": "code",
   "execution_count": 50,
   "id": "9fe43129-2f14-4e24-9115-fe648e930af7",
   "metadata": {},
   "outputs": [
    {
     "data": {
      "text/html": [
       "<div>\n",
       "<style scoped>\n",
       "    .dataframe tbody tr th:only-of-type {\n",
       "        vertical-align: middle;\n",
       "    }\n",
       "\n",
       "    .dataframe tbody tr th {\n",
       "        vertical-align: top;\n",
       "    }\n",
       "\n",
       "    .dataframe thead th {\n",
       "        text-align: right;\n",
       "    }\n",
       "</style>\n",
       "<table border=\"1\" class=\"dataframe\">\n",
       "  <thead>\n",
       "    <tr style=\"text-align: right;\">\n",
       "      <th></th>\n",
       "      <th>user_id</th>\n",
       "      <th>is_gone</th>\n",
       "    </tr>\n",
       "  </thead>\n",
       "  <tbody>\n",
       "    <tr>\n",
       "      <th>0</th>\n",
       "      <td>15393</td>\n",
       "      <td>0.157622</td>\n",
       "    </tr>\n",
       "    <tr>\n",
       "      <th>1</th>\n",
       "      <td>9968</td>\n",
       "      <td>0.100416</td>\n",
       "    </tr>\n",
       "    <tr>\n",
       "      <th>2</th>\n",
       "      <td>11727</td>\n",
       "      <td>0.110899</td>\n",
       "    </tr>\n",
       "    <tr>\n",
       "      <th>3</th>\n",
       "      <td>804</td>\n",
       "      <td>0.094265</td>\n",
       "    </tr>\n",
       "    <tr>\n",
       "      <th>4</th>\n",
       "      <td>271</td>\n",
       "      <td>0.142134</td>\n",
       "    </tr>\n",
       "    <tr>\n",
       "      <th>...</th>\n",
       "      <td>...</td>\n",
       "      <td>...</td>\n",
       "    </tr>\n",
       "    <tr>\n",
       "      <th>2793</th>\n",
       "      <td>15866</td>\n",
       "      <td>0.062827</td>\n",
       "    </tr>\n",
       "    <tr>\n",
       "      <th>2794</th>\n",
       "      <td>19991</td>\n",
       "      <td>0.062806</td>\n",
       "    </tr>\n",
       "    <tr>\n",
       "      <th>2795</th>\n",
       "      <td>4217</td>\n",
       "      <td>0.080055</td>\n",
       "    </tr>\n",
       "    <tr>\n",
       "      <th>2796</th>\n",
       "      <td>22296</td>\n",
       "      <td>0.065847</td>\n",
       "    </tr>\n",
       "    <tr>\n",
       "      <th>2797</th>\n",
       "      <td>18849</td>\n",
       "      <td>0.077340</td>\n",
       "    </tr>\n",
       "  </tbody>\n",
       "</table>\n",
       "<p>2798 rows × 2 columns</p>\n",
       "</div>"
      ],
      "text/plain": [
       "      user_id   is_gone\n",
       "0       15393  0.157622\n",
       "1        9968  0.100416\n",
       "2       11727  0.110899\n",
       "3         804  0.094265\n",
       "4         271  0.142134\n",
       "...       ...       ...\n",
       "2793    15866  0.062827\n",
       "2794    19991  0.062806\n",
       "2795     4217  0.080055\n",
       "2796    22296  0.065847\n",
       "2797    18849  0.077340\n",
       "\n",
       "[2798 rows x 2 columns]"
      ]
     },
     "execution_count": 50,
     "metadata": {},
     "output_type": "execute_result"
    }
   ],
   "source": [
    "active_y = pd.DataFrame({'user_id': test_X.index,\n",
    "                        'is_gone': best_forest.predict_proba(test_X)[:,1]})\n",
    "active_y"
   ]
  },
  {
   "cell_type": "code",
   "execution_count": 51,
   "id": "9b8dcb6a-a53b-411f-b125-d61f1113b681",
   "metadata": {},
   "outputs": [],
   "source": [
    "y_pred = pd.concat([y_pred, active_y])"
   ]
  },
  {
   "cell_type": "code",
   "execution_count": 52,
   "id": "32b97191-8f82-4b19-b233-159ce1b0f688",
   "metadata": {},
   "outputs": [],
   "source": [
    "y_pred = y_pred.sort_values('user_id')"
   ]
  },
  {
   "cell_type": "code",
   "execution_count": 53,
   "id": "9cc47465-9cb3-4a17-87d2-37f7ab6484a6",
   "metadata": {},
   "outputs": [],
   "source": [
    "y_pred.set_index('user_id', inplace=True)"
   ]
  },
  {
   "cell_type": "code",
   "execution_count": 54,
   "id": "3558a160-b6a0-46da-a6e8-c3c23535c786",
   "metadata": {},
   "outputs": [],
   "source": [
    "y_pred.to_csv('predictions.csv')"
   ]
  },
  {
   "cell_type": "markdown",
   "id": "bb22b82a-b472-4266-a8f1-fd3f9a13e0dd",
   "metadata": {},
   "source": [
    "# Death step \n",
    "### Step on which the most students were lost\n",
    "### (needed is we want to restructure the course, not just influence users that may drop out from current version)"
   ]
  },
  {
   "cell_type": "code",
   "execution_count": 55,
   "id": "e6fe120b-42b5-4970-9ef3-fd1f0407b155",
   "metadata": {},
   "outputs": [],
   "source": [
    "last_tried_step_by_user = submissions_data.iloc[submissions_data.groupby('user_id').timestamp.idxmax()] \\\n",
    "                                            .loc[:,['step_id', 'user_id']]\n",
    "# x is value of series with step_id = constant, containing column submission_status.\n",
    "# returns truth is step in question failed the user, false otherwise\n",
    "def mark_death_steps(x):\n",
    "    # true if any wrong attempts were made\n",
    "    wrong_attempts_existance = bool(sum(x == 'wrong'))\n",
    "    correct_attempts_existance = bool(sum(x == 'correct'))\n",
    "    # user tried, but never actually solved it\n",
    "    if wrong_attempts_existance and not correct_attempts_existance:\n",
    "        return True\n",
    "    else:\n",
    "        return False\n",
    "# for every combination (user, his last step) add submission info\n",
    "last_tried_step_by_user = last_tried_step_by_user.merge(submissions_data \\\n",
    "                                                             .drop(columns=['timestamp']), \n",
    "                                                         how='inner').rename(columns={'step_id': 'last_step_id'})\n",
    "# since we already have only last tried step linked to every user, we can group by user to get their combination\n",
    "death_mark = last_tried_step_by_user.groupby('user_id', as_index=False) \\\n",
    "                  .submission_status.agg(mark_death_steps).rename(columns = {'submission_status': 'death_step'})\n",
    "# first delete redundant rows with submission info, then to each pair (user, his last step) add bool saying if this is the death step\n",
    "death_steps_info = last_tried_step_by_user.drop(columns=['submission_status']).drop_duplicates() \\\n",
    "                     .merge(death_mark, on='user_id', how='inner')"
   ]
  },
  {
   "cell_type": "code",
   "execution_count": 56,
   "id": "ca9a5c84-15b3-4745-b5e2-10f8e817f061",
   "metadata": {},
   "outputs": [],
   "source": [
    "coffin = pd.to_numeric(death_steps_info.groupby('last_step_id').death_step.sum()).idxmax()"
   ]
  },
  {
   "cell_type": "code",
   "execution_count": 57,
   "id": "2c061784-ecef-448b-8e49-57458568cd4a",
   "metadata": {},
   "outputs": [
    {
     "data": {
      "text/plain": [
       "31978"
      ]
     },
     "execution_count": 57,
     "metadata": {},
     "output_type": "execute_result"
    }
   ],
   "source": [
    "coffin"
   ]
  }
 ],
 "metadata": {
  "kernelspec": {
   "display_name": "Python 3 (ipykernel)",
   "language": "python",
   "name": "python3"
  },
  "language_info": {
   "codemirror_mode": {
    "name": "ipython",
    "version": 3
   },
   "file_extension": ".py",
   "mimetype": "text/x-python",
   "name": "python",
   "nbconvert_exporter": "python",
   "pygments_lexer": "ipython3",
   "version": "3.10.11"
  }
 },
 "nbformat": 4,
 "nbformat_minor": 5
}
